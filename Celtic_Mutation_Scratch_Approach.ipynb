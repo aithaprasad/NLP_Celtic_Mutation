{
  "nbformat": 4,
  "nbformat_minor": 0,
  "metadata": {
    "colab": {
      "provenance": [],
      "collapsed_sections": []
    },
    "kernelspec": {
      "name": "python3",
      "display_name": "Python 3"
    },
    "language_info": {
      "name": "python"
    }
  },
  "cells": [
    {
      "cell_type": "code",
      "execution_count": null,
      "metadata": {
        "id": "bDzJv0rhv2O9"
      },
      "outputs": [],
      "source": [
        "import csv\n",
        "\n",
        "with open('celtic_train.tsv', encoding=\"utf-8\") as file:\n",
        "  f = csv.reader(file, delimiter=\"\\t\")\n",
        "  all_data = []\n",
        "  for line in f:\n",
        "    all_data.append(line)"
      ]
    },
    {
      "cell_type": "code",
      "source": [
        "len(all_data)"
      ],
      "metadata": {
        "colab": {
          "base_uri": "https://localhost:8080/"
        },
        "id": "t7sB4SrVxq00",
        "outputId": "e0a86f82-868a-45b5-b709-3ac6a5a1643e"
      },
      "execution_count": null,
      "outputs": [
        {
          "output_type": "execute_result",
          "data": {
            "text/plain": [
              "5057059"
            ]
          },
          "metadata": {},
          "execution_count": 28
        }
      ]
    },
    {
      "cell_type": "code",
      "source": [
        "all_data[33]"
      ],
      "metadata": {
        "colab": {
          "base_uri": "https://localhost:8080/"
        },
        "id": "p0XDl5-Yx8Hu",
        "outputId": "45622c6d-0680-48ed-9731-1212b53204d8"
      },
      "execution_count": null,
      "outputs": [
        {
          "output_type": "execute_result",
          "data": {
            "text/plain": [
              "['<S>', 'N']"
            ]
          },
          "metadata": {},
          "execution_count": 29
        }
      ]
    },
    {
      "cell_type": "code",
      "source": [
        "all_data = [['<S>', 'N']] + all_data"
      ],
      "metadata": {
        "id": "B6k68Qzd08r5"
      },
      "execution_count": null,
      "outputs": []
    },
    {
      "cell_type": "code",
      "source": [
        "def train_test_split(data, percent = 0.2):\n",
        "    percent = int(percent * 10)\n",
        "\n",
        "    train = data[((len(data) // 10) * percent):]\n",
        "    test = data[:((len(data) // 10) * percent)]\n",
        "\n",
        "    return train, test"
      ],
      "metadata": {
        "id": "SDZGj_dzyeFN"
      },
      "execution_count": null,
      "outputs": []
    },
    {
      "cell_type": "code",
      "source": [
        "len(all_data)"
      ],
      "metadata": {
        "colab": {
          "base_uri": "https://localhost:8080/"
        },
        "id": "gz7rVY491pOA",
        "outputId": "9cd303f5-bfb2-4b3b-8685-d85d9cc9cb93"
      },
      "execution_count": null,
      "outputs": [
        {
          "output_type": "execute_result",
          "data": {
            "text/plain": [
              "5057060"
            ]
          },
          "metadata": {},
          "execution_count": 35
        }
      ]
    },
    {
      "cell_type": "code",
      "source": [
        "all_data[0]"
      ],
      "metadata": {
        "colab": {
          "base_uri": "https://localhost:8080/"
        },
        "id": "J6fDFry2IHOr",
        "outputId": "16711665-86fd-4692-cfef-3f64e4be77fc"
      },
      "execution_count": 56,
      "outputs": [
        {
          "output_type": "execute_result",
          "data": {
            "text/plain": [
              "['<S>', 'N']"
            ]
          },
          "metadata": {},
          "execution_count": 56
        }
      ]
    },
    {
      "cell_type": "code",
      "source": [
        "train, test = train_test_split(all_data)"
      ],
      "metadata": {
        "id": "SN3FqCTZ0ACc"
      },
      "execution_count": null,
      "outputs": []
    },
    {
      "cell_type": "code",
      "source": [
        "len(train)"
      ],
      "metadata": {
        "colab": {
          "base_uri": "https://localhost:8080/"
        },
        "id": "teDA4nlP0MDT",
        "outputId": "53231300-e8f2-4453-aa6c-80a10d9ed9a8"
      },
      "execution_count": null,
      "outputs": [
        {
          "output_type": "execute_result",
          "data": {
            "text/plain": [
              "4045648"
            ]
          },
          "metadata": {},
          "execution_count": 33
        }
      ]
    },
    {
      "cell_type": "code",
      "source": [
        "len(test)"
      ],
      "metadata": {
        "colab": {
          "base_uri": "https://localhost:8080/"
        },
        "id": "n4sMmB030OcA",
        "outputId": "a5624c34-25aa-4953-fa02-69f7d167104f"
      },
      "execution_count": null,
      "outputs": [
        {
          "output_type": "execute_result",
          "data": {
            "text/plain": [
              "1011412"
            ]
          },
          "metadata": {},
          "execution_count": 34
        }
      ]
    },
    {
      "cell_type": "code",
      "source": [
        "test[0]"
      ],
      "metadata": {
        "colab": {
          "base_uri": "https://localhost:8080/"
        },
        "id": "n4NKoJ0E4_3_",
        "outputId": "9552304a-bab7-49ea-c964-342223022189"
      },
      "execution_count": 57,
      "outputs": [
        {
          "output_type": "execute_result",
          "data": {
            "text/plain": [
              "['<S>', 'N']"
            ]
          },
          "metadata": {},
          "execution_count": 57
        }
      ]
    },
    {
      "cell_type": "code",
      "source": [
        "word_tag_count = dict()\n",
        "N_count, S_count, U_count, T_count, H_count = 0, 0, 0, 0, 0 \n",
        "unique_words = []\n",
        "for word_tag in train:\n",
        "  word, tag = word_tag[0], word_tag[1]\n",
        "  \n",
        "  if word == \"<S>\": continue\n",
        "  \n",
        "  if tag == 'N': N_count += 1\n",
        "  elif tag == 'S': S_count += 1\n",
        "  elif tag == 'T': T_count += 1\n",
        "  elif tag == 'U': U_count += 1\n",
        "  else: H_count += 1\n",
        "\n",
        "  if word not in word_tag_count:\n",
        "    word_tag_count[word] = {tag : 1}\n",
        "    unique_words.append(word)\n",
        "  else:\n",
        "    if tag not in word_tag_count[word]: word_tag_count[word][tag] = 1\n",
        "    else: word_tag_count[word][tag] += 1"
      ],
      "metadata": {
        "id": "3hRALLA30PYZ"
      },
      "execution_count": null,
      "outputs": []
    },
    {
      "cell_type": "code",
      "source": [
        "print(len(word_tag_count))\n",
        "print(len(unique_words))"
      ],
      "metadata": {
        "colab": {
          "base_uri": "https://localhost:8080/"
        },
        "id": "rLcdmOJ47iI0",
        "outputId": "5504b578-d84f-4019-ea5a-8d95f00b821f"
      },
      "execution_count": null,
      "outputs": [
        {
          "output_type": "stream",
          "name": "stdout",
          "text": [
            "110712\n",
            "110712\n"
          ]
        }
      ]
    },
    {
      "cell_type": "code",
      "source": [
        "print(N_count)\n",
        "print(S_count)\n",
        "print(T_count)\n",
        "print(U_count)\n",
        "print(H_count)"
      ],
      "metadata": {
        "colab": {
          "base_uri": "https://localhost:8080/"
        },
        "id": "J_qKGJKw7k6q",
        "outputId": "6a61bdbf-a299-4c9d-b726-0e32be05ea69"
      },
      "execution_count": null,
      "outputs": [
        {
          "output_type": "stream",
          "name": "stdout",
          "text": [
            "3312199\n",
            "393888\n",
            "14233\n",
            "132859\n",
            "32297\n"
          ]
        }
      ]
    },
    {
      "cell_type": "code",
      "source": [
        "total_count_per_tag = {'N' : N_count, 'S': S_count, 'T' : T_count, 'U': U_count, 'H' : H_count}\n",
        "for word in unique_words:\n",
        "  new_dict = {'N' : 0, 'S': 0, 'T' : 0, 'U': 0, 'H' : 0}\n",
        "  tags = ['N', 'S', 'U', 'T', 'H']\n",
        "  for tag in tags:\n",
        "    if tag in word_tag_count[word]:\n",
        "      new_dict[tag] = word_tag_count[word][tag] / total_count_per_tag[tag] \n",
        "  word_tag_count[word] = new_dict"
      ],
      "metadata": {
        "id": "kd31cO0l7rHx"
      },
      "execution_count": null,
      "outputs": []
    },
    {
      "cell_type": "code",
      "source": [
        "total_count_per_tag"
      ],
      "metadata": {
        "colab": {
          "base_uri": "https://localhost:8080/"
        },
        "id": "wBGqJvEkDi1S",
        "outputId": "a25f9d61-1298-40e2-9e75-9cb0c31ed4a3"
      },
      "execution_count": null,
      "outputs": [
        {
          "output_type": "execute_result",
          "data": {
            "text/plain": [
              "{'N': 3312199, 'S': 393888, 'T': 14233, 'U': 132859, 'H': 32297}"
            ]
          },
          "metadata": {},
          "execution_count": 50
        }
      ]
    },
    {
      "cell_type": "code",
      "source": [
        "word_tag_count['tug']"
      ],
      "metadata": {
        "colab": {
          "base_uri": "https://localhost:8080/"
        },
        "id": "tOo7r3tkDl0y",
        "outputId": "1e1e392f-a1c1-4c4c-adda-610b0ccaadfc"
      },
      "execution_count": null,
      "outputs": [
        {
          "output_type": "execute_result",
          "data": {
            "text/plain": [
              "{'N': 2.41531381417602e-06,\n",
              " 'S': 0.005872227638313429,\n",
              " 'T': 0,\n",
              " 'U': 0.00027096395426730595,\n",
              " 'H': 0}"
            ]
          },
          "metadata": {},
          "execution_count": 54
        }
      ]
    },
    {
      "cell_type": "code",
      "source": [
        "sentence_context_tag_count = {'<S>' : {'N': 0, 'S': 0, 'T': 0, 'U': 0, 'H': 0}, 'N' : {'N': 0, 'S': 0, 'T': 0, 'U': 0, 'H': 0}, \n",
        "                              'S' : {'N': 0, 'S': 0, 'T': 0, 'U': 0, 'H': 0}, 'T' : {'N': 0, 'S': 0, 'T': 0, 'U': 0, 'H': 0},\n",
        "                              'U' : {'N': 0, 'S': 0, 'T': 0, 'U': 0, 'H': 0}, 'H' : {'N': 0, 'S': 0, 'T': 0, 'U': 0, 'H': 0}}\n",
        "\n",
        "for i in range(1, len(train)):\n",
        "  if train[i][0] == '<S>': continue\n",
        "  word, tag = train[i][0], train[i][1]\n",
        "  prev_word, prev_tag = train[i - 1][0], train[i - 1][1]\n",
        "  if prev_word == '<S>': prev_tag = '<S>'\n",
        "  sentence_context_tag_count[prev_tag][tag] += 1"
      ],
      "metadata": {
        "id": "SFgubqMuDqpS"
      },
      "execution_count": 60,
      "outputs": []
    },
    {
      "cell_type": "code",
      "source": [
        "sentence_context_tag_count"
      ],
      "metadata": {
        "colab": {
          "base_uri": "https://localhost:8080/"
        },
        "id": "obKx9v40H55u",
        "outputId": "39112fbe-0104-4825-aa44-c931f395e0ac"
      },
      "execution_count": 61,
      "outputs": [
        {
          "output_type": "execute_result",
          "data": {
            "text/plain": [
              "{'<S>': {'N': 144466, 'S': 15240, 'T': 12, 'U': 283, 'H': 170},\n",
              " 'N': {'N': 2625779, 'S': 351222, 'T': 14180, 'U': 131993, 'H': 31298},\n",
              " 'S': {'N': 370775, 'S': 20324, 'T': 24, 'U': 466, 'H': 620},\n",
              " 'T': {'N': 13296, 'S': 834, 'T': 3, 'U': 2, 'H': 38},\n",
              " 'U': {'N': 127090, 'S': 5048, 'T': 11, 'U': 88, 'H': 91},\n",
              " 'H': {'N': 30792, 'S': 1220, 'T': 3, 'U': 27, 'H': 80}}"
            ]
          },
          "metadata": {},
          "execution_count": 61
        }
      ]
    },
    {
      "cell_type": "code",
      "source": [
        "for tag in ['N', 'S', 'T', 'U', 'H', '<S>']:\n",
        "  total_tag_sum = sum(sentence_context_tag_count[tag].values())\n",
        "  for next_tag in ['N', 'S', 'T', 'U', 'H']:\n",
        "    sentence_context_tag_count[tag][next_tag] /= total_tag_sum"
      ],
      "metadata": {
        "id": "GpswQ9a4H8CH"
      },
      "execution_count": 62,
      "outputs": []
    },
    {
      "cell_type": "code",
      "source": [
        "sentence_context_tag_count"
      ],
      "metadata": {
        "colab": {
          "base_uri": "https://localhost:8080/"
        },
        "id": "NDwEthcMOHN7",
        "outputId": "d1977cc1-2074-40fb-91fb-c1374262c185"
      },
      "execution_count": 63,
      "outputs": [
        {
          "output_type": "execute_result",
          "data": {
            "text/plain": [
              "{'<S>': {'N': 0.9019485424952083,\n",
              "  'S': 0.09514831024342733,\n",
              "  'T': 7.491992932553334e-05,\n",
              "  'U': 0.0017668616665938279,\n",
              "  'H': 0.0010613656654450555},\n",
              " 'N': {'N': 0.8323988927465515,\n",
              "  'S': 0.11134097877552884,\n",
              "  'T': 0.004495205536774459,\n",
              "  'U': 0.04184313571336186,\n",
              "  'H': 0.009921787227783287},\n",
              " 'S': {'N': 0.9453505656422978,\n",
              "  'S': 0.05181931062265272,\n",
              "  'T': 6.119186454160919e-05,\n",
              "  'U': 0.0011881420365162452,\n",
              "  'H': 0.0015807898339915709},\n",
              " 'T': {'N': 0.9381217808509137,\n",
              "  'S': 0.0588442813800889,\n",
              "  'T': 0.0002116700769067946,\n",
              "  'U': 0.00014111338460452973,\n",
              "  'H': 0.002681154307486065},\n",
              " 'U': {'N': 0.9604165407170062,\n",
              "  'S': 0.038147633153981016,\n",
              "  'T': 8.31267758902122e-05,\n",
              "  'U': 0.0006650142071216976,\n",
              "  'H': 0.0006876851460008463},\n",
              " 'H': {'N': 0.9585953552082684,\n",
              "  'S': 0.037980200485648465,\n",
              "  'T': 9.339393562044705e-05,\n",
              "  'U': 0.0008405454205840234,\n",
              "  'H': 0.002490504949878588}}"
            ]
          },
          "metadata": {},
          "execution_count": 63
        }
      ]
    },
    {
      "cell_type": "code",
      "source": [],
      "metadata": {
        "id": "bh0aquW2OI_J"
      },
      "execution_count": null,
      "outputs": []
    }
  ]
}