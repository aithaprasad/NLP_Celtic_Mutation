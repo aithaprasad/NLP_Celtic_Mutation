{
  "nbformat": 4,
  "nbformat_minor": 0,
  "metadata": {
    "colab": {
      "provenance": [],
      "collapsed_sections": [],
      "authorship_tag": "ABX9TyN1d+mm6f3wP/fA44D6jdo1",
      "include_colab_link": true
    },
    "kernelspec": {
      "name": "python3",
      "display_name": "Python 3"
    },
    "language_info": {
      "name": "python"
    }
  },
  "cells": [
    {
      "cell_type": "markdown",
      "metadata": {
        "id": "view-in-github",
        "colab_type": "text"
      },
      "source": [
        "<a href=\"https://colab.research.google.com/github/aithaprasad/NLP_Celtic_Mutation/blob/main/Celtic_Mutation_Scratch_Approach.ipynb\" target=\"_parent\"><img src=\"https://colab.research.google.com/assets/colab-badge.svg\" alt=\"Open In Colab\"/></a>"
      ]
    },
    {
      "cell_type": "code",
      "execution_count": 1,
      "metadata": {
        "id": "bDzJv0rhv2O9"
      },
      "outputs": [],
      "source": [
        "import csv\n",
        "\n",
        "with open('celtic_train.tsv', encoding=\"utf-8\") as file:\n",
        "  f = csv.reader(file, delimiter=\"\\t\")\n",
        "  all_data = []\n",
        "  for line in f:\n",
        "    all_data.append(line)"
      ]
    },
    {
      "cell_type": "code",
      "source": [
        "len(all_data)"
      ],
      "metadata": {
        "colab": {
          "base_uri": "https://localhost:8080/"
        },
        "id": "t7sB4SrVxq00",
        "outputId": "850672e6-19cc-4168-9c9a-9cca14d0e109"
      },
      "execution_count": 2,
      "outputs": [
        {
          "output_type": "execute_result",
          "data": {
            "text/plain": [
              "5057059"
            ]
          },
          "metadata": {},
          "execution_count": 2
        }
      ]
    },
    {
      "cell_type": "code",
      "source": [
        "all_data[33]"
      ],
      "metadata": {
        "colab": {
          "base_uri": "https://localhost:8080/"
        },
        "id": "p0XDl5-Yx8Hu",
        "outputId": "dae2cd86-2b12-4b85-ee74-682d80dadab4"
      },
      "execution_count": 3,
      "outputs": [
        {
          "output_type": "execute_result",
          "data": {
            "text/plain": [
              "['<S>', 'N']"
            ]
          },
          "metadata": {},
          "execution_count": 3
        }
      ]
    },
    {
      "cell_type": "code",
      "source": [
        "#all_data = [['<S>', 'N']] + all_data"
      ],
      "metadata": {
        "id": "B6k68Qzd08r5"
      },
      "execution_count": null,
      "outputs": []
    },
    {
      "cell_type": "code",
      "source": [
        "def train_test_split(data, percent = 0.2):\n",
        "    percent = int(percent * 10)\n",
        "\n",
        "    train = data[((len(data) // 10) * percent):]\n",
        "    test = data[:((len(data) // 10) * percent)]\n",
        "\n",
        "    return train, test"
      ],
      "metadata": {
        "id": "SDZGj_dzyeFN"
      },
      "execution_count": 4,
      "outputs": []
    },
    {
      "cell_type": "code",
      "source": [
        "len(all_data)"
      ],
      "metadata": {
        "colab": {
          "base_uri": "https://localhost:8080/"
        },
        "id": "gz7rVY491pOA",
        "outputId": "d1a21bdf-28be-46fe-d2c9-580ab461c761"
      },
      "execution_count": 5,
      "outputs": [
        {
          "output_type": "execute_result",
          "data": {
            "text/plain": [
              "5057059"
            ]
          },
          "metadata": {},
          "execution_count": 5
        }
      ]
    },
    {
      "cell_type": "code",
      "source": [
        "all_data[0]"
      ],
      "metadata": {
        "colab": {
          "base_uri": "https://localhost:8080/"
        },
        "id": "J6fDFry2IHOr",
        "outputId": "012c3c1b-0879-4ad1-9ba7-4715c903d290"
      },
      "execution_count": 6,
      "outputs": [
        {
          "output_type": "execute_result",
          "data": {
            "text/plain": [
              "['ansin', 'N']"
            ]
          },
          "metadata": {},
          "execution_count": 6
        }
      ]
    },
    {
      "cell_type": "code",
      "source": [
        "train, test = train_test_split(all_data)"
      ],
      "metadata": {
        "id": "SN3FqCTZ0ACc"
      },
      "execution_count": 7,
      "outputs": []
    },
    {
      "cell_type": "code",
      "source": [
        "len(train)"
      ],
      "metadata": {
        "colab": {
          "base_uri": "https://localhost:8080/"
        },
        "id": "teDA4nlP0MDT",
        "outputId": "f6b89f36-2c72-40aa-8a77-4da789e1328a"
      },
      "execution_count": 8,
      "outputs": [
        {
          "output_type": "execute_result",
          "data": {
            "text/plain": [
              "4045649"
            ]
          },
          "metadata": {},
          "execution_count": 8
        }
      ]
    },
    {
      "cell_type": "code",
      "source": [
        "len(test)"
      ],
      "metadata": {
        "colab": {
          "base_uri": "https://localhost:8080/"
        },
        "id": "n4sMmB030OcA",
        "outputId": "1a3c4d31-5686-4203-fed4-9a5858003f7b"
      },
      "execution_count": 9,
      "outputs": [
        {
          "output_type": "execute_result",
          "data": {
            "text/plain": [
              "1011410"
            ]
          },
          "metadata": {},
          "execution_count": 9
        }
      ]
    },
    {
      "cell_type": "code",
      "source": [
        "test[0]"
      ],
      "metadata": {
        "colab": {
          "base_uri": "https://localhost:8080/"
        },
        "id": "n4NKoJ0E4_3_",
        "outputId": "a551cbf3-a02f-4262-bc5d-bb8c91635bc6"
      },
      "execution_count": 10,
      "outputs": [
        {
          "output_type": "execute_result",
          "data": {
            "text/plain": [
              "['ansin', 'N']"
            ]
          },
          "metadata": {},
          "execution_count": 10
        }
      ]
    },
    {
      "cell_type": "code",
      "source": [
        "word_tag_count = dict()\n",
        "N_count, S_count, U_count, T_count, H_count = 0, 0, 0, 0, 0 \n",
        "unique_words = []\n",
        "for word_tag in train:\n",
        "  word, tag = word_tag[0], word_tag[1]\n",
        "  \n",
        "  if word == \"<S>\": continue\n",
        "  \n",
        "  if tag == 'N': N_count += 1\n",
        "  elif tag == 'S': S_count += 1\n",
        "  elif tag == 'T': T_count += 1\n",
        "  elif tag == 'U': U_count += 1\n",
        "  else: H_count += 1\n",
        "\n",
        "  if word not in word_tag_count:\n",
        "    word_tag_count[word] = {tag : 1}\n",
        "    unique_words.append(word)\n",
        "  else:\n",
        "    if tag not in word_tag_count[word]: word_tag_count[word][tag] = 1\n",
        "    else: word_tag_count[word][tag] += 1"
      ],
      "metadata": {
        "id": "3hRALLA30PYZ"
      },
      "execution_count": 11,
      "outputs": []
    },
    {
      "cell_type": "code",
      "source": [
        "print(len(word_tag_count))\n",
        "print(len(unique_words))"
      ],
      "metadata": {
        "colab": {
          "base_uri": "https://localhost:8080/"
        },
        "id": "rLcdmOJ47iI0",
        "outputId": "29168125-688c-4f70-ac28-721dbc230170"
      },
      "execution_count": 12,
      "outputs": [
        {
          "output_type": "stream",
          "name": "stdout",
          "text": [
            "110712\n",
            "110712\n"
          ]
        }
      ]
    },
    {
      "cell_type": "code",
      "source": [
        "print(N_count)\n",
        "print(S_count)\n",
        "print(T_count)\n",
        "print(U_count)\n",
        "print(H_count)"
      ],
      "metadata": {
        "colab": {
          "base_uri": "https://localhost:8080/"
        },
        "id": "J_qKGJKw7k6q",
        "outputId": "257bf5a6-1530-4b19-e124-cd9f58071b26"
      },
      "execution_count": 13,
      "outputs": [
        {
          "output_type": "stream",
          "name": "stdout",
          "text": [
            "3312200\n",
            "393888\n",
            "14233\n",
            "132859\n",
            "32297\n"
          ]
        }
      ]
    },
    {
      "cell_type": "code",
      "source": [
        "total_count_per_tag = {'N' : N_count, 'S': S_count, 'T' : T_count, 'U': U_count, 'H' : H_count}\n",
        "for word in unique_words:\n",
        "  new_dict = {'N' : 0, 'S': 0, 'T' : 0, 'U': 0, 'H' : 0}\n",
        "  tags = ['N', 'S', 'U', 'T', 'H']\n",
        "  for tag in tags:\n",
        "    if tag in word_tag_count[word]:\n",
        "      new_dict[tag] = word_tag_count[word][tag] / total_count_per_tag[tag] \n",
        "  word_tag_count[word] = new_dict"
      ],
      "metadata": {
        "id": "kd31cO0l7rHx"
      },
      "execution_count": 14,
      "outputs": []
    },
    {
      "cell_type": "code",
      "source": [
        "total_count_per_tag"
      ],
      "metadata": {
        "colab": {
          "base_uri": "https://localhost:8080/"
        },
        "id": "wBGqJvEkDi1S",
        "outputId": "10814170-1c23-47ca-9025-0b7ca6306923"
      },
      "execution_count": 15,
      "outputs": [
        {
          "output_type": "execute_result",
          "data": {
            "text/plain": [
              "{'N': 3312200, 'S': 393888, 'T': 14233, 'U': 132859, 'H': 32297}"
            ]
          },
          "metadata": {},
          "execution_count": 15
        }
      ]
    },
    {
      "cell_type": "code",
      "source": [
        "word_tag_count['tug']"
      ],
      "metadata": {
        "colab": {
          "base_uri": "https://localhost:8080/"
        },
        "id": "tOo7r3tkDl0y",
        "outputId": "d957b66b-bd17-43b1-ac4a-5c7d1114734d"
      },
      "execution_count": 16,
      "outputs": [
        {
          "output_type": "execute_result",
          "data": {
            "text/plain": [
              "{'N': 2.4153130849586376e-06,\n",
              " 'S': 0.005872227638313429,\n",
              " 'T': 0,\n",
              " 'U': 0.00027096395426730595,\n",
              " 'H': 0}"
            ]
          },
          "metadata": {},
          "execution_count": 16
        }
      ]
    },
    {
      "cell_type": "code",
      "source": [
        "sentence_context_tag_count = {'<S>' : {'N': 0, 'S': 0, 'T': 0, 'U': 0, 'H': 0}, 'N' : {'N': 0, 'S': 0, 'T': 0, 'U': 0, 'H': 0}, \n",
        "                              'S' : {'N': 0, 'S': 0, 'T': 0, 'U': 0, 'H': 0}, 'T' : {'N': 0, 'S': 0, 'T': 0, 'U': 0, 'H': 0},\n",
        "                              'U' : {'N': 0, 'S': 0, 'T': 0, 'U': 0, 'H': 0}, 'H' : {'N': 0, 'S': 0, 'T': 0, 'U': 0, 'H': 0}}\n",
        "\n",
        "for i in range(1, len(train)):\n",
        "  if train[i][0] == '<S>': continue\n",
        "  word, tag = train[i][0], train[i][1]\n",
        "  prev_word, prev_tag = train[i - 1][0], train[i - 1][1]\n",
        "  if prev_word == '<S>': prev_tag = '<S>'\n",
        "  sentence_context_tag_count[prev_tag][tag] += 1"
      ],
      "metadata": {
        "id": "SFgubqMuDqpS"
      },
      "execution_count": 17,
      "outputs": []
    },
    {
      "cell_type": "code",
      "source": [
        "sentence_context_tag_count"
      ],
      "metadata": {
        "colab": {
          "base_uri": "https://localhost:8080/"
        },
        "id": "obKx9v40H55u",
        "outputId": "d83cc580-d5c9-4900-e6f0-99c6a9bcf51f"
      },
      "execution_count": 18,
      "outputs": [
        {
          "output_type": "execute_result",
          "data": {
            "text/plain": [
              "{'<S>': {'N': 144466, 'S': 15240, 'T': 12, 'U': 283, 'H': 170},\n",
              " 'N': {'N': 2625780, 'S': 351222, 'T': 14180, 'U': 131993, 'H': 31298},\n",
              " 'S': {'N': 370775, 'S': 20324, 'T': 24, 'U': 466, 'H': 620},\n",
              " 'T': {'N': 13296, 'S': 834, 'T': 3, 'U': 2, 'H': 38},\n",
              " 'U': {'N': 127090, 'S': 5048, 'T': 11, 'U': 88, 'H': 91},\n",
              " 'H': {'N': 30792, 'S': 1220, 'T': 3, 'U': 27, 'H': 80}}"
            ]
          },
          "metadata": {},
          "execution_count": 18
        }
      ]
    },
    {
      "cell_type": "code",
      "source": [
        "for tag in ['N', 'S', 'T', 'U', 'H', '<S>']:\n",
        "  total_tag_sum = sum(sentence_context_tag_count[tag].values())\n",
        "  for next_tag in ['N', 'S', 'T', 'U', 'H']:\n",
        "    sentence_context_tag_count[tag][next_tag] /= total_tag_sum"
      ],
      "metadata": {
        "id": "GpswQ9a4H8CH"
      },
      "execution_count": 19,
      "outputs": []
    },
    {
      "cell_type": "code",
      "source": [
        "sentence_context_tag_count"
      ],
      "metadata": {
        "colab": {
          "base_uri": "https://localhost:8080/"
        },
        "id": "NDwEthcMOHN7",
        "outputId": "4f2dad32-7eb5-4158-e93b-9bf37145b8be"
      },
      "execution_count": 20,
      "outputs": [
        {
          "output_type": "execute_result",
          "data": {
            "text/plain": [
              "{'<S>': {'N': 0.9019485424952083,\n",
              "  'S': 0.09514831024342733,\n",
              "  'T': 7.491992932553334e-05,\n",
              "  'U': 0.0017668616665938279,\n",
              "  'H': 0.0010613656654450555},\n",
              " 'N': {'N': 0.8323989458778059,\n",
              "  'S': 0.11134094347930701,\n",
              "  'T': 0.004495204111748618,\n",
              "  'U': 0.04184312244866258,\n",
              "  'H': 0.0099217840824759},\n",
              " 'S': {'N': 0.9453505656422978,\n",
              "  'S': 0.05181931062265272,\n",
              "  'T': 6.119186454160919e-05,\n",
              "  'U': 0.0011881420365162452,\n",
              "  'H': 0.0015807898339915709},\n",
              " 'T': {'N': 0.9381217808509137,\n",
              "  'S': 0.0588442813800889,\n",
              "  'T': 0.0002116700769067946,\n",
              "  'U': 0.00014111338460452973,\n",
              "  'H': 0.002681154307486065},\n",
              " 'U': {'N': 0.9604165407170062,\n",
              "  'S': 0.038147633153981016,\n",
              "  'T': 8.31267758902122e-05,\n",
              "  'U': 0.0006650142071216976,\n",
              "  'H': 0.0006876851460008463},\n",
              " 'H': {'N': 0.9585953552082684,\n",
              "  'S': 0.037980200485648465,\n",
              "  'T': 9.339393562044705e-05,\n",
              "  'U': 0.0008405454205840234,\n",
              "  'H': 0.002490504949878588}}"
            ]
          },
          "metadata": {},
          "execution_count": 20
        }
      ]
    },
    {
      "cell_type": "code",
      "source": [
        "def viterbi(sentence):\n",
        "  state = []\n",
        "  tags = ['N', 'S', 'U', 'T', 'H']\n",
        "  for key, word in enumerate(sentence):\n",
        "    p = []\n",
        "\n",
        "    for tag in tags:\n",
        "      if key == 0 or word == '<S>': transmission_prob = sentence_context_tag_count['<S>'][tag]\n",
        "      else: transmission_prob = sentence_context_tag_count[state[-1]][tag]\n",
        "      emission_p = 0.0\n",
        "      if word in word_tag_count.keys(): emission_p = word_tag_count[word][tag]\n",
        "  \n",
        "      state_prop = emission_p * transmission_prob\n",
        "      p.append(state_prop)\n",
        "    max_value=max(p)\n",
        "    value=tags[p.index(max_value)]\n",
        "    state.append(value)\n",
        "  return list(zip(sentence, state)), state"
      ],
      "metadata": {
        "id": "bh0aquW2OI_J"
      },
      "execution_count": 45,
      "outputs": []
    },
    {
      "cell_type": "code",
      "source": [
        "test_data = []\n",
        "test_label = []\n",
        "for data in test:\n",
        "  test_data.append(data[0])\n",
        "  test_label.append(data[1])"
      ],
      "metadata": {
        "id": "Gzl8TZRnJ2rI"
      },
      "execution_count": 26,
      "outputs": []
    },
    {
      "cell_type": "code",
      "source": [
        "predicted_pairs, pred_val = viterbi(test_data)"
      ],
      "metadata": {
        "id": "GJVutQKdQLcF"
      },
      "execution_count": 46,
      "outputs": []
    },
    {
      "cell_type": "code",
      "source": [
        "correct, total = 0, len(test_label)\n",
        "for i in range(len(test_label)):\n",
        "  if test_label[i] == pred_val[i]:\n",
        "    correct += 1\n",
        "print(correct / total)"
      ],
      "metadata": {
        "colab": {
          "base_uri": "https://localhost:8080/"
        },
        "id": "exu9NjFkQ_az",
        "outputId": "871cfbe3-177b-4c8b-e868-d5b2670e88af"
      },
      "execution_count": 47,
      "outputs": [
        {
          "output_type": "stream",
          "name": "stdout",
          "text": [
            "0.9080590462819232\n"
          ]
        }
      ]
    },
    {
      "cell_type": "code",
      "source": [],
      "metadata": {
        "id": "pF26Th8cRPRE"
      },
      "execution_count": null,
      "outputs": []
    }
  ]
}