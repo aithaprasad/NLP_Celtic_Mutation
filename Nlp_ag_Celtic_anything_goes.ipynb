{
  "cells": [
    {
      "cell_type": "markdown",
      "source": [
        "POS tagger using bidirectinal LSTM"
      ],
      "metadata": {
        "id": "Bumcd1x2Eg6U"
      }
    },
    {
      "cell_type": "code",
      "execution_count": 3,
      "metadata": {
        "id": "B6WfrDOrwRsA"
      },
      "outputs": [],
      "source": [
        "import pandas as pd\n",
        "from tensorflow.keras.models import Sequential\n",
        "from tensorflow.keras.layers import LSTM, Embedding, Dense, TimeDistributed, Dropout, Bidirectional \n",
        "from sklearn.model_selection import train_test_split\n",
        "from tensorflow.keras.preprocessing.sequence import pad_sequences\n",
        "from tensorflow.keras.utils import to_categorical\n",
        "import tensorflow as tf\n",
        "import numpy as np"
      ]
    },
    {
      "cell_type": "markdown",
      "source": [
        "Read the data from the train file"
      ],
      "metadata": {
        "id": "eYGV4Q4JErSs"
      }
    },
    {
      "cell_type": "code",
      "execution_count": 4,
      "metadata": {
        "id": "aDaHpuK6wJJa"
      },
      "outputs": [],
      "source": [
        "data = pd.read_csv(\"train.tsv\",delimiter=\"\\t\",on_bad_lines='skip')"
      ]
    },
    {
      "cell_type": "markdown",
      "source": [
        "check whether it has nay null columns"
      ],
      "metadata": {
        "id": "lBjWvV4IEzlm"
      }
    },
    {
      "cell_type": "code",
      "execution_count": 5,
      "metadata": {
        "id": "DuOo2RqswyQW"
      },
      "outputs": [],
      "source": [
        "data=data.dropna()"
      ]
    },
    {
      "cell_type": "code",
      "execution_count": 6,
      "metadata": {
        "id": "G-JEoBRQwg10"
      },
      "outputs": [],
      "source": [
        "data.columns=['word',\"Tag\"]"
      ]
    },
    {
      "cell_type": "markdown",
      "source": [
        "Exploring the dataset"
      ],
      "metadata": {
        "id": "fSH8Fa_7E4Kj"
      }
    },
    {
      "cell_type": "code",
      "execution_count": 7,
      "metadata": {
        "colab": {
          "base_uri": "https://localhost:8080/",
          "height": 175
        },
        "id": "v9E_uq34wsNM",
        "outputId": "6b75e885-1d41-4ab1-d1d1-b3c4e5fd147e"
      },
      "outputs": [
        {
          "output_type": "execute_result",
          "data": {
            "text/plain": [
              "           word      Tag\n",
              "count   5057045  5057045\n",
              "unique   126547        5\n",
              "top           a        N\n",
              "freq     203526  4339835"
            ],
            "text/html": [
              "\n",
              "  <div id=\"df-cbfdddf3-0996-4b30-915f-e42165db5207\">\n",
              "    <div class=\"colab-df-container\">\n",
              "      <div>\n",
              "<style scoped>\n",
              "    .dataframe tbody tr th:only-of-type {\n",
              "        vertical-align: middle;\n",
              "    }\n",
              "\n",
              "    .dataframe tbody tr th {\n",
              "        vertical-align: top;\n",
              "    }\n",
              "\n",
              "    .dataframe thead th {\n",
              "        text-align: right;\n",
              "    }\n",
              "</style>\n",
              "<table border=\"1\" class=\"dataframe\">\n",
              "  <thead>\n",
              "    <tr style=\"text-align: right;\">\n",
              "      <th></th>\n",
              "      <th>word</th>\n",
              "      <th>Tag</th>\n",
              "    </tr>\n",
              "  </thead>\n",
              "  <tbody>\n",
              "    <tr>\n",
              "      <th>count</th>\n",
              "      <td>5057045</td>\n",
              "      <td>5057045</td>\n",
              "    </tr>\n",
              "    <tr>\n",
              "      <th>unique</th>\n",
              "      <td>126547</td>\n",
              "      <td>5</td>\n",
              "    </tr>\n",
              "    <tr>\n",
              "      <th>top</th>\n",
              "      <td>a</td>\n",
              "      <td>N</td>\n",
              "    </tr>\n",
              "    <tr>\n",
              "      <th>freq</th>\n",
              "      <td>203526</td>\n",
              "      <td>4339835</td>\n",
              "    </tr>\n",
              "  </tbody>\n",
              "</table>\n",
              "</div>\n",
              "      <button class=\"colab-df-convert\" onclick=\"convertToInteractive('df-cbfdddf3-0996-4b30-915f-e42165db5207')\"\n",
              "              title=\"Convert this dataframe to an interactive table.\"\n",
              "              style=\"display:none;\">\n",
              "        \n",
              "  <svg xmlns=\"http://www.w3.org/2000/svg\" height=\"24px\"viewBox=\"0 0 24 24\"\n",
              "       width=\"24px\">\n",
              "    <path d=\"M0 0h24v24H0V0z\" fill=\"none\"/>\n",
              "    <path d=\"M18.56 5.44l.94 2.06.94-2.06 2.06-.94-2.06-.94-.94-2.06-.94 2.06-2.06.94zm-11 1L8.5 8.5l.94-2.06 2.06-.94-2.06-.94L8.5 2.5l-.94 2.06-2.06.94zm10 10l.94 2.06.94-2.06 2.06-.94-2.06-.94-.94-2.06-.94 2.06-2.06.94z\"/><path d=\"M17.41 7.96l-1.37-1.37c-.4-.4-.92-.59-1.43-.59-.52 0-1.04.2-1.43.59L10.3 9.45l-7.72 7.72c-.78.78-.78 2.05 0 2.83L4 21.41c.39.39.9.59 1.41.59.51 0 1.02-.2 1.41-.59l7.78-7.78 2.81-2.81c.8-.78.8-2.07 0-2.86zM5.41 20L4 18.59l7.72-7.72 1.47 1.35L5.41 20z\"/>\n",
              "  </svg>\n",
              "      </button>\n",
              "      \n",
              "  <style>\n",
              "    .colab-df-container {\n",
              "      display:flex;\n",
              "      flex-wrap:wrap;\n",
              "      gap: 12px;\n",
              "    }\n",
              "\n",
              "    .colab-df-convert {\n",
              "      background-color: #E8F0FE;\n",
              "      border: none;\n",
              "      border-radius: 50%;\n",
              "      cursor: pointer;\n",
              "      display: none;\n",
              "      fill: #1967D2;\n",
              "      height: 32px;\n",
              "      padding: 0 0 0 0;\n",
              "      width: 32px;\n",
              "    }\n",
              "\n",
              "    .colab-df-convert:hover {\n",
              "      background-color: #E2EBFA;\n",
              "      box-shadow: 0px 1px 2px rgba(60, 64, 67, 0.3), 0px 1px 3px 1px rgba(60, 64, 67, 0.15);\n",
              "      fill: #174EA6;\n",
              "    }\n",
              "\n",
              "    [theme=dark] .colab-df-convert {\n",
              "      background-color: #3B4455;\n",
              "      fill: #D2E3FC;\n",
              "    }\n",
              "\n",
              "    [theme=dark] .colab-df-convert:hover {\n",
              "      background-color: #434B5C;\n",
              "      box-shadow: 0px 1px 3px 1px rgba(0, 0, 0, 0.15);\n",
              "      filter: drop-shadow(0px 1px 2px rgba(0, 0, 0, 0.3));\n",
              "      fill: #FFFFFF;\n",
              "    }\n",
              "  </style>\n",
              "\n",
              "      <script>\n",
              "        const buttonEl =\n",
              "          document.querySelector('#df-cbfdddf3-0996-4b30-915f-e42165db5207 button.colab-df-convert');\n",
              "        buttonEl.style.display =\n",
              "          google.colab.kernel.accessAllowed ? 'block' : 'none';\n",
              "\n",
              "        async function convertToInteractive(key) {\n",
              "          const element = document.querySelector('#df-cbfdddf3-0996-4b30-915f-e42165db5207');\n",
              "          const dataTable =\n",
              "            await google.colab.kernel.invokeFunction('convertToInteractive',\n",
              "                                                     [key], {});\n",
              "          if (!dataTable) return;\n",
              "\n",
              "          const docLinkHtml = 'Like what you see? Visit the ' +\n",
              "            '<a target=\"_blank\" href=https://colab.research.google.com/notebooks/data_table.ipynb>data table notebook</a>'\n",
              "            + ' to learn more about interactive tables.';\n",
              "          element.innerHTML = '';\n",
              "          dataTable['output_type'] = 'display_data';\n",
              "          await google.colab.output.renderOutput(dataTable, element);\n",
              "          const docLink = document.createElement('div');\n",
              "          docLink.innerHTML = docLinkHtml;\n",
              "          element.appendChild(docLink);\n",
              "        }\n",
              "      </script>\n",
              "    </div>\n",
              "  </div>\n",
              "  "
            ]
          },
          "metadata": {},
          "execution_count": 7
        }
      ],
      "source": [
        "data.describe()"
      ]
    },
    {
      "cell_type": "markdown",
      "source": [
        "We create  train bag of words"
      ],
      "metadata": {
        "id": "i-_E0RTmFBmN"
      }
    },
    {
      "cell_type": "code",
      "execution_count": 10,
      "metadata": {
        "id": "klZvMbPtvR2t"
      },
      "outputs": [],
      "source": [
        "train_bag=list(zip(data['word'],data['Tag']))"
      ]
    },
    {
      "cell_type": "markdown",
      "source": [
        "s tag refers to the end of a sentence ,we split and seggregate them to different ssentence"
      ],
      "metadata": {
        "id": "iZ1V1flcFHkv"
      }
    },
    {
      "cell_type": "code",
      "execution_count": 11,
      "metadata": {
        "id": "ggRErrckAOlh"
      },
      "outputs": [],
      "source": [
        "size = len(train_bag)\n",
        "idx_list = [idx + 1 for idx, val in\n",
        "            enumerate(train_bag) if val[0] == \"<S>\"]\n"
      ]
    },
    {
      "cell_type": "code",
      "execution_count": 12,
      "metadata": {
        "id": "PJh-SBNGCyaO"
      },
      "outputs": [],
      "source": [
        "res = [train_bag[i: j] for i, j in\n",
        "        zip([0] + idx_list, idx_list + \n",
        "        ([size] if idx_list[-1] != size else []))]"
      ]
    },
    {
      "cell_type": "markdown",
      "source": [
        "we find the list of unique words "
      ],
      "metadata": {
        "id": "YXoEfV-YFibD"
      }
    },
    {
      "cell_type": "code",
      "execution_count": 13,
      "metadata": {
        "colab": {
          "base_uri": "https://localhost:8080/"
        },
        "id": "8AysytXpFlf9",
        "outputId": "357e6dd0-9caf-4886-ea16-64b45ef71c64"
      },
      "outputs": [
        {
          "output_type": "stream",
          "name": "stdout",
          "text": [
            "126548\n",
            "['N', 'T', 'S', 'U', 'H', '<PAD>']\n",
            "[(')', 'N'), ('tá', 'N'), ('níos', 'N'), ('lú', 'N'), ('gaeilge', 'N'), ('ag', 'N'), ('na', 'N'), ('gardaí', 'N'), ('ná', 'N'), ('bí', 'S'), ('ariamh', 'N'), ('ainneoin', 'N'), ('na', 'N'), ('cearta', 'U'), ('.', 'N'), ('níl', 'N'), ('sé', 'N'), ('ach', 'N'), ('roinnt', 'N'), ('seachtainí', 'N'), ('ó', 'N'), ('sin', 'S'), ('a', 'N'), ('tógadh', 'N'), ('fear', 'N'), ('bocht', 'N'), ('a', 'N'), ('tug', 'S'), ('ainm', 'N'), ('gaeilge', 'N'), ('dóibh', 'N'), ('.', 'N'), ('<S>', 'N')]\n"
          ]
        }
      ],
      "source": [
        "vocab = list(set([w for sent in res for (w,t) in sent]))\n",
        "vocab.append('<PAD>')\n",
        "print(len(vocab))\n",
        "tags = list(set([t for sent in res for (w,t) in sent]))\n",
        "tags.append('<PAD>')\n",
        "print(tags)\n",
        "print(res[0]) "
      ]
    },
    {
      "cell_type": "markdown",
      "source": [
        "padding the feature and the label to fit the data inside the model"
      ],
      "metadata": {
        "id": "7s6592zqFtKL"
      }
    },
    {
      "cell_type": "code",
      "execution_count": 14,
      "metadata": {
        "id": "x-_V-taT8xpB"
      },
      "outputs": [],
      "source": [
        "num_tags =list(set((data['Tag'])))"
      ]
    },
    {
      "cell_type": "code",
      "execution_count": 15,
      "metadata": {
        "id": "bFjjyMUSvC8b"
      },
      "outputs": [],
      "source": [
        "max_len = 60\n",
        "word2index = {w: i for i, w in enumerate(vocab)}\n",
        "tag2index = {t: i for i, t in enumerate(tags)}\n",
        "onehot = [[word2index[w[0]] for w in s] for s in res]\n",
        "X = pad_sequences(maxlen=max_len, sequences=onehot, padding=\"post\", value=len(vocab)-1)"
      ]
    },
    {
      "cell_type": "code",
      "execution_count": 16,
      "metadata": {
        "id": "LZ6zXXJLXkdq"
      },
      "outputs": [],
      "source": [
        "onehot_y = [[tag2index[w[1]] for w in s] for s in res]\n",
        "y = pad_sequences(maxlen=max_len, sequences=onehot_y, padding=\"post\", value=tag2index[\"<PAD>\"])\n",
        "y = [to_categorical(i, num_classes=len(tags)) for i in y]"
      ]
    },
    {
      "cell_type": "code",
      "execution_count": 17,
      "metadata": {
        "id": "gelELQyGNZ9Z"
      },
      "outputs": [],
      "source": [
        "y = np.asarray(y)"
      ]
    },
    {
      "cell_type": "code",
      "execution_count": 18,
      "metadata": {
        "id": "26HiHFvC5Q2O"
      },
      "outputs": [],
      "source": [
        "Xtrain, ytrain = X, y"
      ]
    },
    {
      "cell_type": "markdown",
      "source": [
        "Hyper parameter tuning "
      ],
      "metadata": {
        "id": "apE3XgnjF_T2"
      }
    },
    {
      "cell_type": "code",
      "execution_count": 19,
      "metadata": {
        "id": "7j2g8uKD6irK"
      },
      "outputs": [],
      "source": [
        "def tuning(batch_size,epochs):\n",
        "  model = Sequential()\n",
        "  model.add(Embedding(input_dim=len(vocab), output_dim=50, input_length=max_len))\n",
        "  model.add(Bidirectional(LSTM(units=100, return_sequences=True, recurrent_dropout=0.1)))\n",
        "  model.add(TimeDistributed(Dense(len(tags), activation=\"softmax\")))\n",
        "  model.compile(optimizer=\"adam\", loss=\"categorical_crossentropy\", metrics=[\"accuracy\"])\n",
        "  history = model.fit(Xtrain, ytrain, batch_size=batch_size, epochs=epochs, validation_split=0.1, verbose=1)\n",
        "  print(max(history.history['val_accuracy']))"
      ]
    },
    {
      "cell_type": "markdown",
      "source": [],
      "metadata": {
        "id": "CZEOR4U7Hr7U"
      }
    },
    {
      "cell_type": "code",
      "execution_count": 20,
      "metadata": {
        "id": "3xjkxRuYdY0v"
      },
      "outputs": [],
      "source": [
        "batch_size=[1000,5000,10000]\n",
        "n_epochs=[5,10,15]\n",
        "for i,j in zip(batch_size,n_epochs):\n",
        "  tuning(i,j)\n"
      ]
    },
    {
      "cell_type": "code",
      "execution_count": 21,
      "metadata": {
        "id": "Qj6W3ED6rsTS"
      },
      "outputs": [],
      "source": [
        "value=zip(batch_size,n_epochs)"
      ]
    },
    {
      "cell_type": "markdown",
      "source": [
        "we got high accuracy for epoechs= 5 and batch_size 1000.\n",
        "we used them in the model"
      ],
      "metadata": {
        "id": "lPaVrDGuGIhp"
      }
    },
    {
      "cell_type": "code",
      "execution_count": 22,
      "metadata": {
        "colab": {
          "base_uri": "https://localhost:8080/"
        },
        "id": "9Jc89g9ErGqE",
        "outputId": "f319e940-1e0a-47ff-842d-894fcdf18e2c"
      },
      "outputs": [
        {
          "output_type": "stream",
          "name": "stderr",
          "text": [
            "WARNING:tensorflow:Layer lstm will not use cuDNN kernels since it doesn't meet the criteria. It will use a generic GPU kernel as fallback when running on GPU.\n",
            "WARNING:tensorflow:Layer lstm will not use cuDNN kernels since it doesn't meet the criteria. It will use a generic GPU kernel as fallback when running on GPU.\n",
            "WARNING:tensorflow:Layer lstm will not use cuDNN kernels since it doesn't meet the criteria. It will use a generic GPU kernel as fallback when running on GPU.\n"
          ]
        },
        {
          "output_type": "stream",
          "name": "stdout",
          "text": [
            "Epoch 1/5\n",
            "181/181 [==============================] - 86s 438ms/step - loss: 0.3670 - accuracy: 0.8980 - val_loss: 0.1903 - val_accuracy: 0.9412\n",
            "Epoch 2/5\n",
            "181/181 [==============================] - 79s 436ms/step - loss: 0.1347 - accuracy: 0.9550 - val_loss: 0.1132 - val_accuracy: 0.9605\n",
            "Epoch 3/5\n",
            "181/181 [==============================] - 79s 436ms/step - loss: 0.0858 - accuracy: 0.9718 - val_loss: 0.0671 - val_accuracy: 0.9789\n",
            "Epoch 4/5\n",
            "181/181 [==============================] - 78s 433ms/step - loss: 0.0567 - accuracy: 0.9817 - val_loss: 0.0542 - val_accuracy: 0.9825\n",
            "Epoch 5/5\n",
            "181/181 [==============================] - 78s 432ms/step - loss: 0.0459 - accuracy: 0.9848 - val_loss: 0.0487 - val_accuracy: 0.9843\n"
          ]
        }
      ],
      "source": [
        "import numpy\n",
        "# run fit on Colab or hopper\n",
        "model = Sequential()\n",
        "model.add(Embedding(input_dim=len(vocab), output_dim=50, input_length=max_len))\n",
        "model.add(Bidirectional(LSTM(units=100, return_sequences=True, recurrent_dropout=0.1)))\n",
        "model.add(TimeDistributed(Dense(len(tags), activation=\"softmax\")))\n",
        "model.compile(optimizer=\"adam\", loss=\"categorical_crossentropy\", metrics=[\"accuracy\"])\n",
        "history = model.fit(Xtrain, ytrain, batch_size=1000, epochs=5, validation_split=0.1, verbose=1)"
      ]
    },
    {
      "cell_type": "markdown",
      "source": [
        "we pad them test set and encode them and then make predictition"
      ],
      "metadata": {
        "id": "H1wkTI4wHHbg"
      }
    },
    {
      "cell_type": "code",
      "source": [
        "def evaluate():\n",
        "  test_data = open('test.tsv', 'r')\n",
        "  all_sentences = []\n",
        "  sentence = []\n",
        "  for line in test_data:\n",
        "      pieces = line.rstrip(\"\\n\").split(\"\\t\")\n",
        "      if pieces[0]=='<S>':\n",
        "        all_sentences.append(sentence)\n",
        "        sentence = []\n",
        "      else:\n",
        "        sentence.append(pieces)\n",
        "  test_onehot = [[word2index[w[0]] if w[0] in word2index else len(vocab) - 1 for w in s] for s in all_sentences]\n",
        "  X_final_test = pad_sequences(maxlen=max_len, sequences=test_onehot, padding=\"post\", value=len(vocab)-1)\n",
        "  onehot_y_test = [[tag2index[w[1]] for w in s] for s in all_sentences]\n",
        "  y_final_test = pad_sequences(maxlen=max_len, sequences=onehot_y_test, padding=\"post\", value=tag2index[\"<PAD>\"])\n",
        "  y_final_test = [to_categorical(i, num_classes=len(tags)) for i in y_final_test]\n",
        "  test_result = model.evaluate(X_final_test, numpy.asarray(y_final_test),verbose=0)\n",
        "  return test_result[1]"
      ],
      "metadata": {
        "id": "wCbvwCnt3rvt"
      },
      "execution_count": 27,
      "outputs": []
    },
    {
      "cell_type": "code",
      "source": [
        "evaluate()"
      ],
      "metadata": {
        "colab": {
          "base_uri": "https://localhost:8080/"
        },
        "id": "JNRfhEac-i44",
        "outputId": "f34ee1ad-8650-4f93-ba4e-4fc89b1fad3e"
      },
      "execution_count": 28,
      "outputs": [
        {
          "output_type": "execute_result",
          "data": {
            "text/plain": [
              "0.9815133810043335"
            ]
          },
          "metadata": {},
          "execution_count": 28
        }
      ]
    }
  ],
  "metadata": {
    "accelerator": "GPU",
    "colab": {
      "provenance": [],
      "collapsed_sections": []
    },
    "kernelspec": {
      "display_name": "Python 3",
      "name": "python3"
    },
    "language_info": {
      "name": "python"
    }
  },
  "nbformat": 4,
  "nbformat_minor": 0
}
